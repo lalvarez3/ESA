{
 "cells": [
  {
   "cell_type": "code",
   "execution_count": 36,
   "id": "65664af2",
   "metadata": {},
   "outputs": [],
   "source": [
    "import os\n",
    "import numpy as np\n",
    "import glob\n",
    "import pandas as pd\n",
    "\n",
    "from astropy.table import Table, Column, vstack\n",
    "import xspec"
   ]
  },
  {
   "cell_type": "code",
   "execution_count": 7,
   "id": "52c1bc27",
   "metadata": {},
   "outputs": [
    {
     "name": "stdout",
     "output_type": "stream",
     "text": [
      "Created TAP+ (v20200428.1) - Connection:\n",
      "\tHost: nxsa.esac.esa.int\n",
      "\tUse HTTPS: False\n",
      "\tPort: 80\n",
      "\tSSL Port: 443\n"
     ]
    }
   ],
   "source": [
    "from astroquery.esa.xmm_newton import XMMNewton "
   ]
  },
  {
   "cell_type": "code",
   "execution_count": 13,
   "id": "a3f69521",
   "metadata": {},
   "outputs": [
    {
     "name": "stdout",
     "output_type": "stream",
     "text": [
      "Downloading URL http://nxsa.esac.esa.int/nxsa-sl/servlet/data-action-aio?obsno=0505720401&level=ODF&instname=M1 to result0505720401.tar.gz ... [Done]\n"
     ]
    }
   ],
   "source": [
    "XMMNewton.download_data('0505720401',level=\"ODF\",instname=\"M1\",filename=\"result0505720401.tar\") "
   ]
  },
  {
   "cell_type": "code",
   "execution_count": null,
   "id": "899d1330",
   "metadata": {},
   "outputs": [],
   "source": []
  },
  {
   "cell_type": "code",
   "execution_count": 2,
   "id": "908e6583",
   "metadata": {},
   "outputs": [],
   "source": [
    "from astropy.io import fits\n",
    "import matplotlib.pylab as plt\n",
    "home= os.path.expanduser(\"-\")"
   ]
  },
  {
   "cell_type": "code",
   "execution_count": 3,
   "id": "fbea74de",
   "metadata": {},
   "outputs": [],
   "source": [
    "plt.rc(\"text\", usetex=False)\n",
    "plt.rc('font', family=\"serif\")"
   ]
  },
  {
   "cell_type": "code",
   "execution_count": 4,
   "id": "4929d8e0",
   "metadata": {},
   "outputs": [
    {
     "name": "stdout",
     "output_type": "stream",
     "text": [
      "4xmmdr11slim_210716.fits   init_sas.sh\t\t       sas_docker_notebook.sh\r\n",
      "Dockerfile\t\t   pfiles\t\t       sas_singularity.sh\r\n",
      "Makefile\t\t   pip.conf\t\t       self-test.sh\r\n",
      "README.md\t\t   requirements.txt\t       tests\r\n",
      "Untitled.ipynb\t\t   sas_18.0.0.conf\t       xspec.log\r\n",
      "User-Makefile\t\t   sas_19.1.0-Ubuntu18.04.tgz\r\n",
      "ds9.ubuntu20.8.2.1.tar.gz  sas_docker.sh\r\n"
     ]
    }
   ],
   "source": [
    "!ls"
   ]
  },
  {
   "cell_type": "code",
   "execution_count": 42,
   "id": "9d69c494",
   "metadata": {},
   "outputs": [
    {
     "name": "stdout",
     "output_type": "stream",
     "text": [
      "Will no longer write to previously opened log file.\n",
      "Logging to file: xspec.log\n"
     ]
    }
   ],
   "source": [
    "logfile = xspec.Xset.openLog(f\"xspec.log\")"
   ]
  },
  {
   "cell_type": "code",
   "execution_count": 43,
   "id": "c8a2b657",
   "metadata": {},
   "outputs": [
    {
     "name": "stdout",
     "output_type": "stream",
     "text": [
      "Dockerfile\t\t   omgrismspec.rsp\t       sas_docker.sh\r\n",
      "Makefile\t\t   pfiles\t\t       sas_docker_notebook.sh\r\n",
      "README.md\t\t   pip.conf\t\t       sas_singularity.sh\r\n",
      "Untitled.ipynb\t\t   requirements.txt\t       self-test.sh\r\n",
      "User-Makefile\t\t   response.rsp\t\t       startsas.log\r\n",
      "ds9.ubuntu20.8.2.1.tar.gz  result0505720401.tar.gz     tests\r\n",
      "init_sas.sh\t\t   sas-startup.ipynb\t       xspec.log\r\n",
      "obs\t\t\t   sas_18.0.0.conf\r\n",
      "omgrismspec.pi\t\t   sas_19.1.0-Ubuntu18.04.tgz\r\n"
     ]
    }
   ],
   "source": [
    "!ls"
   ]
  },
  {
   "cell_type": "code",
   "execution_count": 109,
   "id": "d92c9223",
   "metadata": {
    "scrolled": true
   },
   "outputs": [
    {
     "name": "stdout",
     "output_type": "stream",
     "text": [
      "\n",
      "6 spectra  in use\n",
      " \n",
      "Spectral Data File: obs/obs/P0104860501R2S005SRSPEC1001.FIT  Spectrum 6\n",
      "Net count rate (cts/s) for Spectrum:6  4.587e-02 +/- 1.068e-03\n",
      " Assigned to Data Group 1 and Plot Group 6\n",
      "  Noticed Channels:  1-2714\n",
      "  Telescope: XMM Instrument: RGS2  Channel Type: PI\n",
      "  Exposure Time: 4.018e+04 sec\n",
      " Using fit statistic: cstat\n",
      " No response loaded.\n",
      "\n",
      "***Warning!  One or more spectra are missing responses,\n",
      "               and are not suitable for fit.\n"
     ]
    }
   ],
   "source": [
    "s = xspec.Spectrum(\"obs/obs/P0104860501R2S005SRSPEC1001.FIT\")"
   ]
  },
  {
   "cell_type": "code",
   "execution_count": 110,
   "id": "f6e7f277",
   "metadata": {},
   "outputs": [
    {
     "name": "stdout",
     "output_type": "stream",
     "text": [
      "\n",
      "========================================================================\n",
      "Model bbody<1> + gaussian<2> Source No.: 1   Active/Off\n",
      "Model Model Component  Parameter  Unit     Value\n",
      " par  comp\n",
      "   1    1   bbody      kT         keV      3.00000      +/-  0.0          \n",
      "   2    1   bbody      norm                1.00000      +/-  0.0          \n",
      "   3    2   gaussian   LineE      keV      6.50000      +/-  0.0          \n",
      "   4    2   gaussian   Sigma      keV      0.100000     +/-  0.0          \n",
      "   5    2   gaussian   norm                1.00000      +/-  0.0          \n",
      "________________________________________________________________________\n",
      "\n",
      "***Warning!  One or more spectra are missing responses,\n",
      "               and are not suitable for fit.\n"
     ]
    }
   ],
   "source": [
    "model = xspec.Model(\"bbody + ga\")"
   ]
  },
  {
   "cell_type": "code",
   "execution_count": 111,
   "id": "7e76372a",
   "metadata": {},
   "outputs": [
    {
     "name": "stdout",
     "output_type": "stream",
     "text": [
      "bbody ['kT', 'norm']\n",
      "gaussian ['LineE', 'Sigma', 'norm']\n"
     ]
    }
   ],
   "source": [
    "ncomp = len(model.componentNames)\n",
    "for icomp in model.componentNames:\n",
    "    print(icomp, eval(f\"model.{icomp}.parameterNames\"))"
   ]
  },
  {
   "cell_type": "code",
   "execution_count": 112,
   "id": "a63da802",
   "metadata": {},
   "outputs": [
    {
     "name": "stdout",
     "output_type": "stream",
     "text": [
      "***Warning!  One or more spectra are missing responses,\n",
      "               and are not suitable for fit.\n",
      "***Warning!  One or more spectra are missing responses,\n",
      "               and are not suitable for fit.\n",
      "***Warning!  One or more spectra are missing responses,\n",
      "               and are not suitable for fit.\n",
      "***Warning!  One or more spectra are missing responses,\n",
      "               and are not suitable for fit.\n"
     ]
    }
   ],
   "source": [
    "#\n",
    "# the BlackBody peak at 6.5  keV \n",
    "#\n",
    "# Wien's law, the temperature in kT units [keV] of a BB peaking at 6.5 keV\n",
    "#\n",
    "model.bbody.kT = 6.5/1.59362\n",
    "# and fix it\n",
    "model.bbody.kT.frozen = True\n",
    "#\n",
    "# initial sigma of the line is set to 50 eV, but can be between 1 and 100 eV\n",
    "model.gaussian.Sigma = [5.0e-2,0.001,1.0e-3,1.0e-3,1.0e-1,1.0e-1]\n",
    "#\n",
    "line_c = 6.4 # keV\n",
    "# set the initial line energy and the range where to lok for a C-stat minimum\n",
    "model.gaussian.LineE = [line_c,0.001,line_c-0.2,line_c-0.1,line_c+0.1,line_c+0.2]"
   ]
  },
  {
   "cell_type": "code",
   "execution_count": 113,
   "id": "3f796be6",
   "metadata": {},
   "outputs": [
    {
     "name": "stdout",
     "output_type": "stream",
     "text": [
      "Default fit statistic is set to: C-Statistic\n",
      "   This will apply to all current and newly loaded spectra.\n",
      "***Warning!  One or more spectra are missing responses,\n",
      "               and are not suitable for fit.\n",
      " Solar Abundance Vector set to wilm:  Wilms, J., Allen, A. & McCray, R. ApJ 542 914 (2000) (abundances are set to zero for those elements not included in the paper).\n",
      "***Warning!  One or more spectra are missing responses,\n",
      "               and are not suitable for fit.\n",
      "  2714 channels (1,2714) noticed in spectrum #     6\n",
      "***Warning!  One or more spectra are missing responses,\n",
      "               and are not suitable for fit.\n",
      "\n",
      "\n"
     ]
    },
    {
     "name": "stderr",
     "output_type": "stream",
     "text": [
      "\n",
      "***XSPEC Error:  no energy defined range for spectrum 6\n",
      "\n",
      "***XSPEC Error:  no energy defined range for spectrum 6\n"
     ]
    }
   ],
   "source": [
    "#\n",
    "xspec.Fit.statMethod = \"cstat\"\n",
    "xspec.Xset.abund = \"wilm\"\n",
    "#\n",
    "#\n",
    "# will constrain the spectrum in [4.5-8] keV\n",
    "#\n",
    "startE = 4.5 # keV\n",
    "endE = 8.0 # keV\n",
    "#\n",
    "s.notice(\"all\")\n",
    "s.ignore(f\"*-{startE} {endE}-*\")\n",
    "#"
   ]
  },
  {
   "cell_type": "code",
   "execution_count": 114,
   "id": "791d21f7",
   "metadata": {},
   "outputs": [
    {
     "name": "stdout",
     "output_type": "stream",
     "text": [
      "\n",
      "========================================================================\n",
      "Model bbody<1> + gaussian<2> Source No.: 1   Active/Off\n",
      "Model Model Component  Parameter  Unit     Value\n",
      " par  comp\n",
      "   1    1   bbody      kT         keV      4.07876      frozen\n",
      "   2    1   bbody      norm                1.00000      +/-  0.0          \n",
      "   3    2   gaussian   LineE      keV      6.40000      +/-  0.0          \n",
      "   4    2   gaussian   Sigma      keV      5.00000E-02  +/-  0.0          \n",
      "   5    2   gaussian   norm                1.00000      +/-  0.0          \n",
      "________________________________________________________________________\n",
      "\n"
     ]
    }
   ],
   "source": [
    "model.show()"
   ]
  },
  {
   "cell_type": "code",
   "execution_count": 115,
   "id": "8b185cd6",
   "metadata": {},
   "outputs": [
    {
     "name": "stderr",
     "output_type": "stream",
     "text": [
      "\n",
      "***XSPEC Error: Cannot fit: No models are currently active.\n"
     ]
    },
    {
     "ename": "Exception",
     "evalue": "Error executing command: fit",
     "output_type": "error",
     "traceback": [
      "\u001b[0;31m---------------------------------------------------------------------------\u001b[0m",
      "\u001b[0;31mException\u001b[0m                                 Traceback (most recent call last)",
      "\u001b[0;32m/tmp/ipykernel_83/1393529464.py\u001b[0m in \u001b[0;36m<module>\u001b[0;34m\u001b[0m\n\u001b[1;32m      1\u001b[0m \u001b[0mxspec\u001b[0m\u001b[0;34m.\u001b[0m\u001b[0mFit\u001b[0m\u001b[0;34m.\u001b[0m\u001b[0mnIterations\u001b[0m \u001b[0;34m=\u001b[0m \u001b[0;36m100\u001b[0m\u001b[0;34m\u001b[0m\u001b[0;34m\u001b[0m\u001b[0m\n\u001b[1;32m      2\u001b[0m \u001b[0mxspec\u001b[0m\u001b[0;34m.\u001b[0m\u001b[0mFit\u001b[0m\u001b[0;34m.\u001b[0m\u001b[0mquery\u001b[0m \u001b[0;34m=\u001b[0m \u001b[0;34m'yes'\u001b[0m\u001b[0;34m\u001b[0m\u001b[0;34m\u001b[0m\u001b[0m\n\u001b[0;32m----> 3\u001b[0;31m \u001b[0mxspec\u001b[0m\u001b[0;34m.\u001b[0m\u001b[0mFit\u001b[0m\u001b[0;34m.\u001b[0m\u001b[0mperform\u001b[0m\u001b[0;34m(\u001b[0m\u001b[0;34m)\u001b[0m\u001b[0;34m\u001b[0m\u001b[0;34m\u001b[0m\u001b[0m\n\u001b[0m\u001b[1;32m      4\u001b[0m \u001b[0mxspec\u001b[0m\u001b[0;34m.\u001b[0m\u001b[0mFit\u001b[0m\u001b[0;34m.\u001b[0m\u001b[0mshow\u001b[0m\u001b[0;34m(\u001b[0m\u001b[0;34m)\u001b[0m\u001b[0;34m\u001b[0m\u001b[0;34m\u001b[0m\u001b[0m\n\u001b[1;32m      5\u001b[0m \u001b[0mcstat\u001b[0m \u001b[0;34m=\u001b[0m \u001b[0mxspec\u001b[0m\u001b[0;34m.\u001b[0m\u001b[0mFit\u001b[0m\u001b[0;34m.\u001b[0m\u001b[0mstatistic\u001b[0m\u001b[0;34m\u001b[0m\u001b[0;34m\u001b[0m\u001b[0m\n",
      "\u001b[0;32m/opt/heasoft/lib/python/xspec/fit.py\u001b[0m in \u001b[0;36mperform\u001b[0;34m(self)\u001b[0m\n\u001b[1;32m    473\u001b[0m \u001b[0;34m\u001b[0m\u001b[0m\n\u001b[1;32m    474\u001b[0m         \u001b[0mfitArgs\u001b[0m \u001b[0;34m=\u001b[0m \u001b[0;34m[\u001b[0m\u001b[0;34m\"fit\"\u001b[0m\u001b[0;34m]\u001b[0m\u001b[0;34m\u001b[0m\u001b[0;34m\u001b[0m\u001b[0m\n\u001b[0;32m--> 475\u001b[0;31m         \u001b[0m_pyXspec\u001b[0m\u001b[0;34m.\u001b[0m\u001b[0mdoXspecCmd\u001b[0m\u001b[0;34m(\u001b[0m\u001b[0mfitArgs\u001b[0m\u001b[0;34m)\u001b[0m\u001b[0;34m\u001b[0m\u001b[0;34m\u001b[0m\u001b[0m\n\u001b[0m\u001b[1;32m    476\u001b[0m \u001b[0;34m\u001b[0m\u001b[0m\n\u001b[1;32m    477\u001b[0m     \u001b[0;32mdef\u001b[0m \u001b[0mrenorm\u001b[0m\u001b[0;34m(\u001b[0m\u001b[0mself\u001b[0m\u001b[0;34m,\u001b[0m \u001b[0msetting\u001b[0m\u001b[0;34m=\u001b[0m\u001b[0;32mNone\u001b[0m\u001b[0;34m)\u001b[0m\u001b[0;34m:\u001b[0m\u001b[0;34m\u001b[0m\u001b[0;34m\u001b[0m\u001b[0m\n",
      "\u001b[0;31mException\u001b[0m: Error executing command: fit"
     ]
    }
   ],
   "source": [
    "xspec.Fit.nIterations = 100\n",
    "xspec.Fit.query = 'yes'\n",
    "xspec.Fit.perform()\n",
    "xspec.Fit.show()\n",
    "cstat = xspec.Fit.statistic\n",
    "dof = xspec.Fit.dof\n",
    "chi2r = xspec.Fit.testStatistic/dof\n",
    "#xspec.Fit.error(\"2.706 3 6\")"
   ]
  },
  {
   "cell_type": "code",
   "execution_count": 116,
   "id": "273c812a",
   "metadata": {},
   "outputs": [
    {
     "name": "stderr",
     "output_type": "stream",
     "text": [
      "\n",
      "***XSPEC Error: No energies defined for spectrum 1, but plot requested on energy/wavelength axis.\n",
      " Plot Group 1 will not be constructed \n",
      "\n"
     ]
    },
    {
     "ename": "Exception",
     "evalue": "",
     "output_type": "error",
     "traceback": [
      "\u001b[0;31m---------------------------------------------------------------------------\u001b[0m",
      "\u001b[0;31mException\u001b[0m                                 Traceback (most recent call last)",
      "\u001b[0;32m/tmp/ipykernel_83/1934371480.py\u001b[0m in \u001b[0;36m<module>\u001b[0;34m\u001b[0m\n\u001b[1;32m      8\u001b[0m \u001b[0mxspec\u001b[0m\u001b[0;34m.\u001b[0m\u001b[0mPlot\u001b[0m\u001b[0;34m.\u001b[0m\u001b[0maddCommand\u001b[0m\u001b[0;34m(\u001b[0m\u001b[0;34m\"lwidth 4\"\u001b[0m\u001b[0;34m)\u001b[0m\u001b[0;34m\u001b[0m\u001b[0;34m\u001b[0m\u001b[0m\n\u001b[1;32m      9\u001b[0m \u001b[0mxspec\u001b[0m\u001b[0;34m.\u001b[0m\u001b[0mPlot\u001b[0m\u001b[0;34m.\u001b[0m\u001b[0maddCommand\u001b[0m\u001b[0;34m(\u001b[0m\u001b[0;34m\"lab top \\\"Test plot\\\"\"\u001b[0m\u001b[0;34m)\u001b[0m\u001b[0;34m\u001b[0m\u001b[0;34m\u001b[0m\u001b[0m\n\u001b[0;32m---> 10\u001b[0;31m \u001b[0mxspec\u001b[0m\u001b[0;34m.\u001b[0m\u001b[0mPlot\u001b[0m\u001b[0;34m(\u001b[0m\u001b[0;34m'ld'\u001b[0m\u001b[0;34m,\u001b[0m\u001b[0;34m'ratio'\u001b[0m\u001b[0;34m)\u001b[0m\u001b[0;34m\u001b[0m\u001b[0;34m\u001b[0m\u001b[0m\n\u001b[0m",
      "\u001b[0;32m/opt/heasoft/lib/python/xspec/plot.py\u001b[0m in \u001b[0;36m__call__\u001b[0;34m(self, *panes)\u001b[0m\n\u001b[1;32m     85\u001b[0m         \u001b[0;32mfor\u001b[0m \u001b[0ms\u001b[0m \u001b[0;32min\u001b[0m \u001b[0mpanes\u001b[0m\u001b[0;34m:\u001b[0m\u001b[0;34m\u001b[0m\u001b[0;34m\u001b[0m\u001b[0m\n\u001b[1;32m     86\u001b[0m             \u001b[0mplotArgs\u001b[0m \u001b[0;34m+=\u001b[0m \u001b[0ms\u001b[0m\u001b[0;34m.\u001b[0m\u001b[0msplit\u001b[0m\u001b[0;34m(\u001b[0m\u001b[0;34m)\u001b[0m\u001b[0;34m\u001b[0m\u001b[0;34m\u001b[0m\u001b[0m\n\u001b[0;32m---> 87\u001b[0;31m         \u001b[0m_pyXspec\u001b[0m\u001b[0;34m.\u001b[0m\u001b[0mdoPlot\u001b[0m\u001b[0;34m(\u001b[0m\u001b[0mplotArgs\u001b[0m\u001b[0;34m)\u001b[0m\u001b[0;34m\u001b[0m\u001b[0;34m\u001b[0m\u001b[0m\n\u001b[0m\u001b[1;32m     88\u001b[0m \u001b[0;34m\u001b[0m\u001b[0m\n\u001b[1;32m     89\u001b[0m     \u001b[0;32mdef\u001b[0m \u001b[0m_getAdd\u001b[0m\u001b[0;34m(\u001b[0m\u001b[0mself\u001b[0m\u001b[0;34m)\u001b[0m\u001b[0;34m:\u001b[0m\u001b[0;34m\u001b[0m\u001b[0;34m\u001b[0m\u001b[0m\n",
      "\u001b[0;31mException\u001b[0m: "
     ]
    }
   ],
   "source": [
    "# plot in Xserver\n",
    "xspec.Plot.device = '/xs'\n",
    "# or save to postScript\n",
    "#xspec.Plot.device = f'{psfile}/cps'\n",
    "xspec.Plot.xAxis = \"keV\"\n",
    "xspec.Plot.setRebin(minSig=30.0,maxBins=4)\n",
    "xspec.Plot.addCommand(\"csize 1.2\")\n",
    "xspec.Plot.addCommand(\"lwidth 4\")\n",
    "xspec.Plot.addCommand(\"lab top \\\"Test plot\\\"\")\n",
    "xspec.Plot('ld','ratio')"
   ]
  },
  {
   "cell_type": "code",
   "execution_count": 117,
   "id": "4f409582",
   "metadata": {
    "scrolled": true
   },
   "outputs": [
    {
     "name": "stdout",
     "output_type": "stream",
     "text": [
      "0104860501  obs\r\n"
     ]
    }
   ],
   "source": [
    "!ls obs"
   ]
  },
  {
   "cell_type": "code",
   "execution_count": 52,
   "id": "0ca1a72d",
   "metadata": {},
   "outputs": [
    {
     "data": {
      "text/plain": [
       "'/home/heasoft'"
      ]
     },
     "execution_count": 52,
     "metadata": {},
     "output_type": "execute_result"
    }
   ],
   "source": [
    "os.getcwd()"
   ]
  },
  {
   "cell_type": "code",
   "execution_count": 121,
   "id": "ca2dcfca",
   "metadata": {},
   "outputs": [
    {
     "name": "stdout",
     "output_type": "stream",
     "text": [
      "rm: cannot remove 'omgrismspec.pi': No such file or directory\n",
      "rm: cannot remove 'omgrismspec.rsp': No such file or directory\n",
      "omgrismresp:- Executing (routine): omgrismresp inputspec=obs/obs/P0104860501R2S005SRSPEC1001.FIT outputspec=omgrismspec.pi responsefile=omgrismspec.rsp  -w 1 -V 4\n",
      "omgrismresp:- omgrismresp (omgrismresp-0.5.1)  [xmmsas_20210317_1624-19.1.0] started:  2021-11-12T03:11:05.000\n",
      "  Error: Filter UNKNOWN              not recognised\n",
      "omgrismresp:- omgrismresp (omgrismresp-0.5.1)  [xmmsas_20210317_1624-19.1.0] ended:    2021-11-12T03:11:05.000\n"
     ]
    }
   ],
   "source": [
    "!rm omgrismspec.pi\n",
    "!rm omgrismspec.rsp\n",
    "!omgrismresp inputspec=obs/obs/P0104860501R2S005SRSPEC1001.FIT"
   ]
  },
  {
   "cell_type": "code",
   "execution_count": 118,
   "id": "8c6a7a82",
   "metadata": {},
   "outputs": [
    {
     "name": "stdout",
     "output_type": "stream",
     "text": [
      "Plot command list is now empty\n"
     ]
    }
   ],
   "source": [
    "xspec.Plot.commands = ()"
   ]
  },
  {
   "cell_type": "code",
   "execution_count": 119,
   "id": "25ead127",
   "metadata": {},
   "outputs": [
    {
     "name": "stderr",
     "output_type": "stream",
     "text": [
      "\n",
      "***XSPEC Error: No energies defined for spectrum 1, but plot requested on energy/wavelength axis.\n",
      " Plot Group 1 will not be constructed \n",
      "\n"
     ]
    },
    {
     "ename": "Exception",
     "evalue": "",
     "output_type": "error",
     "traceback": [
      "\u001b[0;31m---------------------------------------------------------------------------\u001b[0m",
      "\u001b[0;31mException\u001b[0m                                 Traceback (most recent call last)",
      "\u001b[0;32m/tmp/ipykernel_83/96592660.py\u001b[0m in \u001b[0;36m<module>\u001b[0;34m\u001b[0m\n\u001b[1;32m      6\u001b[0m \u001b[0mxspec\u001b[0m\u001b[0;34m.\u001b[0m\u001b[0mPlot\u001b[0m\u001b[0;34m.\u001b[0m\u001b[0madd\u001b[0m \u001b[0;34m=\u001b[0m \u001b[0;32mTrue\u001b[0m\u001b[0;34m\u001b[0m\u001b[0;34m\u001b[0m\u001b[0m\n\u001b[1;32m      7\u001b[0m \u001b[0mxspec\u001b[0m\u001b[0;34m.\u001b[0m\u001b[0mPlot\u001b[0m\u001b[0;34m.\u001b[0m\u001b[0maddCommand\u001b[0m\u001b[0;34m(\u001b[0m\u001b[0;34mf'wd {save_data}'\u001b[0m\u001b[0;34m)\u001b[0m\u001b[0;34m\u001b[0m\u001b[0;34m\u001b[0m\u001b[0m\n\u001b[0;32m----> 8\u001b[0;31m \u001b[0mxspec\u001b[0m\u001b[0;34m.\u001b[0m\u001b[0mPlot\u001b[0m\u001b[0;34m(\u001b[0m\u001b[0;34m\"ld\"\u001b[0m\u001b[0;34m)\u001b[0m\u001b[0;34m\u001b[0m\u001b[0;34m\u001b[0m\u001b[0m\n\u001b[0m",
      "\u001b[0;32m/opt/heasoft/lib/python/xspec/plot.py\u001b[0m in \u001b[0;36m__call__\u001b[0;34m(self, *panes)\u001b[0m\n\u001b[1;32m     85\u001b[0m         \u001b[0;32mfor\u001b[0m \u001b[0ms\u001b[0m \u001b[0;32min\u001b[0m \u001b[0mpanes\u001b[0m\u001b[0;34m:\u001b[0m\u001b[0;34m\u001b[0m\u001b[0;34m\u001b[0m\u001b[0m\n\u001b[1;32m     86\u001b[0m             \u001b[0mplotArgs\u001b[0m \u001b[0;34m+=\u001b[0m \u001b[0ms\u001b[0m\u001b[0;34m.\u001b[0m\u001b[0msplit\u001b[0m\u001b[0;34m(\u001b[0m\u001b[0;34m)\u001b[0m\u001b[0;34m\u001b[0m\u001b[0;34m\u001b[0m\u001b[0m\n\u001b[0;32m---> 87\u001b[0;31m         \u001b[0m_pyXspec\u001b[0m\u001b[0;34m.\u001b[0m\u001b[0mdoPlot\u001b[0m\u001b[0;34m(\u001b[0m\u001b[0mplotArgs\u001b[0m\u001b[0;34m)\u001b[0m\u001b[0;34m\u001b[0m\u001b[0;34m\u001b[0m\u001b[0m\n\u001b[0m\u001b[1;32m     88\u001b[0m \u001b[0;34m\u001b[0m\u001b[0m\n\u001b[1;32m     89\u001b[0m     \u001b[0;32mdef\u001b[0m \u001b[0m_getAdd\u001b[0m\u001b[0;34m(\u001b[0m\u001b[0mself\u001b[0m\u001b[0;34m)\u001b[0m\u001b[0;34m:\u001b[0m\u001b[0;34m\u001b[0m\u001b[0;34m\u001b[0m\u001b[0m\n",
      "\u001b[0;31mException\u001b[0m: "
     ]
    }
   ],
   "source": [
    "save_data = 'specfit.qdp'\n",
    "if (os.path.isfile(save_data)):\n",
    "    os.remove(save_data)\n",
    "# following Andy Beardmore idea\n",
    "xspec.Plot.device = '/null'\n",
    "xspec.Plot.add = True\n",
    "xspec.Plot.addCommand(f'wd {save_data}')\n",
    "xspec.Plot(\"ld\")"
   ]
  },
  {
   "cell_type": "code",
   "execution_count": 62,
   "id": "cf3e8ca3",
   "metadata": {
    "scrolled": true
   },
   "outputs": [
    {
     "name": "stderr",
     "output_type": "stream",
     "text": [
      "\n",
      "***XSPEC Error: Cannot fit: No models are currently active.\n"
     ]
    },
    {
     "ename": "Exception",
     "evalue": "Error executing command: fit",
     "output_type": "error",
     "traceback": [
      "\u001b[0;31m---------------------------------------------------------------------------\u001b[0m",
      "\u001b[0;31mException\u001b[0m                                 Traceback (most recent call last)",
      "\u001b[0;32m/tmp/ipykernel_83/1393529464.py\u001b[0m in \u001b[0;36m<module>\u001b[0;34m\u001b[0m\n\u001b[1;32m      1\u001b[0m \u001b[0mxspec\u001b[0m\u001b[0;34m.\u001b[0m\u001b[0mFit\u001b[0m\u001b[0;34m.\u001b[0m\u001b[0mnIterations\u001b[0m \u001b[0;34m=\u001b[0m \u001b[0;36m100\u001b[0m\u001b[0;34m\u001b[0m\u001b[0;34m\u001b[0m\u001b[0m\n\u001b[1;32m      2\u001b[0m \u001b[0mxspec\u001b[0m\u001b[0;34m.\u001b[0m\u001b[0mFit\u001b[0m\u001b[0;34m.\u001b[0m\u001b[0mquery\u001b[0m \u001b[0;34m=\u001b[0m \u001b[0;34m'yes'\u001b[0m\u001b[0;34m\u001b[0m\u001b[0;34m\u001b[0m\u001b[0m\n\u001b[0;32m----> 3\u001b[0;31m \u001b[0mxspec\u001b[0m\u001b[0;34m.\u001b[0m\u001b[0mFit\u001b[0m\u001b[0;34m.\u001b[0m\u001b[0mperform\u001b[0m\u001b[0;34m(\u001b[0m\u001b[0;34m)\u001b[0m\u001b[0;34m\u001b[0m\u001b[0;34m\u001b[0m\u001b[0m\n\u001b[0m\u001b[1;32m      4\u001b[0m \u001b[0mxspec\u001b[0m\u001b[0;34m.\u001b[0m\u001b[0mFit\u001b[0m\u001b[0;34m.\u001b[0m\u001b[0mshow\u001b[0m\u001b[0;34m(\u001b[0m\u001b[0;34m)\u001b[0m\u001b[0;34m\u001b[0m\u001b[0;34m\u001b[0m\u001b[0m\n\u001b[1;32m      5\u001b[0m \u001b[0mcstat\u001b[0m \u001b[0;34m=\u001b[0m \u001b[0mxspec\u001b[0m\u001b[0;34m.\u001b[0m\u001b[0mFit\u001b[0m\u001b[0;34m.\u001b[0m\u001b[0mstatistic\u001b[0m\u001b[0;34m\u001b[0m\u001b[0;34m\u001b[0m\u001b[0m\n",
      "\u001b[0;32m/opt/heasoft/lib/python/xspec/fit.py\u001b[0m in \u001b[0;36mperform\u001b[0;34m(self)\u001b[0m\n\u001b[1;32m    473\u001b[0m \u001b[0;34m\u001b[0m\u001b[0m\n\u001b[1;32m    474\u001b[0m         \u001b[0mfitArgs\u001b[0m \u001b[0;34m=\u001b[0m \u001b[0;34m[\u001b[0m\u001b[0;34m\"fit\"\u001b[0m\u001b[0;34m]\u001b[0m\u001b[0;34m\u001b[0m\u001b[0;34m\u001b[0m\u001b[0m\n\u001b[0;32m--> 475\u001b[0;31m         \u001b[0m_pyXspec\u001b[0m\u001b[0;34m.\u001b[0m\u001b[0mdoXspecCmd\u001b[0m\u001b[0;34m(\u001b[0m\u001b[0mfitArgs\u001b[0m\u001b[0;34m)\u001b[0m\u001b[0;34m\u001b[0m\u001b[0;34m\u001b[0m\u001b[0m\n\u001b[0m\u001b[1;32m    476\u001b[0m \u001b[0;34m\u001b[0m\u001b[0m\n\u001b[1;32m    477\u001b[0m     \u001b[0;32mdef\u001b[0m \u001b[0mrenorm\u001b[0m\u001b[0;34m(\u001b[0m\u001b[0mself\u001b[0m\u001b[0;34m,\u001b[0m \u001b[0msetting\u001b[0m\u001b[0;34m=\u001b[0m\u001b[0;32mNone\u001b[0m\u001b[0;34m)\u001b[0m\u001b[0;34m:\u001b[0m\u001b[0;34m\u001b[0m\u001b[0;34m\u001b[0m\u001b[0m\n",
      "\u001b[0;31mException\u001b[0m: Error executing command: fit"
     ]
    }
   ],
   "source": []
  },
  {
   "cell_type": "code",
   "execution_count": null,
   "id": "d2405984",
   "metadata": {},
   "outputs": [],
   "source": []
  }
 ],
 "metadata": {
  "kernelspec": {
   "display_name": "Python 3 (ipykernel)",
   "language": "python",
   "name": "python3"
  },
  "language_info": {
   "codemirror_mode": {
    "name": "ipython",
    "version": 3
   },
   "file_extension": ".py",
   "mimetype": "text/x-python",
   "name": "python",
   "nbconvert_exporter": "python",
   "pygments_lexer": "ipython3",
   "version": "3.8.10"
  }
 },
 "nbformat": 4,
 "nbformat_minor": 5
}
